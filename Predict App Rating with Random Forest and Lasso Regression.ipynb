{
 "cells": [
  {
   "cell_type": "code",
   "execution_count": 1,
   "metadata": {
    "id": "Khn_IPCsCX3e"
   },
   "outputs": [],
   "source": [
    "import pandas as pd\n",
    "import numpy as np\n",
    "from matplotlib import pyplot as plt\n",
    "import seaborn as sns\n",
    "import re\n",
    "import sklearn\n",
    "from sklearn.model_selection import train_test_split\n",
    "from sklearn import linear_model\n",
    "from sklearn import metrics\n",
    "from sklearn.compose import ColumnTransformer\n",
    "from sklearn.model_selection import cross_val_score,cross_val_predict\n",
    "from sklearn.model_selection import KFold\n",
    "from sklearn.pipeline import make_pipeline\n",
    "from sklearn.pipeline import Pipeline\n",
    "from sklearn.preprocessing import StandardScaler, OneHotEncoder, LabelEncoder\n",
    "from sklearn.model_selection import GridSearchCV\n",
    "from sklearn.metrics import mean_squared_error, mean_absolute_error\n",
    "from sklearn.linear_model import Ridge\n",
    "from sklearn.linear_model import Lasso\n",
    "from sklearn.linear_model import ElasticNet\n",
    "from sklearn.neighbors import KNeighborsRegressor\n",
    "from sklearn.ensemble import RandomForestRegressor\n",
    "import warnings\n",
    "import time\n",
    "import datetime\n",
    "warnings.filterwarnings(\"ignore\", category=FutureWarning)\n",
    "import numpy as np\n",
    "import matplotlib.pyplot as plt  # To visualize\n",
    "import pandas as pd  # To read data\n",
    "from sklearn.linear_model import LinearRegression"
   ]
  },
  {
   "cell_type": "code",
   "execution_count": 11,
   "metadata": {
    "colab": {
     "base_uri": "https://localhost:8080/",
     "height": 206
    },
    "id": "C-vRhlPlCX3f",
    "outputId": "e16fb31d-db15-4081-b8c0-e238766b696a"
   },
   "outputs": [
    {
     "data": {
      "text/html": [
       "<div>\n",
       "<style scoped>\n",
       "    .dataframe tbody tr th:only-of-type {\n",
       "        vertical-align: middle;\n",
       "    }\n",
       "\n",
       "    .dataframe tbody tr th {\n",
       "        vertical-align: top;\n",
       "    }\n",
       "\n",
       "    .dataframe thead th {\n",
       "        text-align: right;\n",
       "    }\n",
       "</style>\n",
       "<table border=\"1\" class=\"dataframe\">\n",
       "  <thead>\n",
       "    <tr style=\"text-align: right;\">\n",
       "      <th></th>\n",
       "      <th>App</th>\n",
       "      <th>Category</th>\n",
       "      <th>Rating</th>\n",
       "      <th>Reviews</th>\n",
       "      <th>Size</th>\n",
       "      <th>Installs</th>\n",
       "      <th>Type</th>\n",
       "      <th>Price</th>\n",
       "      <th>Content Rating</th>\n",
       "      <th>Genres</th>\n",
       "      <th>Last Updated</th>\n",
       "      <th>Current Ver</th>\n",
       "      <th>Android Ver</th>\n",
       "    </tr>\n",
       "  </thead>\n",
       "  <tbody>\n",
       "    <tr>\n",
       "      <th>0</th>\n",
       "      <td>Photo Editor &amp; Candy Camera &amp; Grid &amp; ScrapBook</td>\n",
       "      <td>ART_AND_DESIGN</td>\n",
       "      <td>4.1</td>\n",
       "      <td>159</td>\n",
       "      <td>19M</td>\n",
       "      <td>10,000+</td>\n",
       "      <td>Free</td>\n",
       "      <td>0</td>\n",
       "      <td>Everyone</td>\n",
       "      <td>Art &amp; Design</td>\n",
       "      <td>January 7, 2018</td>\n",
       "      <td>1.0.0</td>\n",
       "      <td>4.0.3 and up</td>\n",
       "    </tr>\n",
       "    <tr>\n",
       "      <th>1</th>\n",
       "      <td>Coloring book moana</td>\n",
       "      <td>ART_AND_DESIGN</td>\n",
       "      <td>3.9</td>\n",
       "      <td>967</td>\n",
       "      <td>14M</td>\n",
       "      <td>500,000+</td>\n",
       "      <td>Free</td>\n",
       "      <td>0</td>\n",
       "      <td>Everyone</td>\n",
       "      <td>Art &amp; Design;Pretend Play</td>\n",
       "      <td>January 15, 2018</td>\n",
       "      <td>2.0.0</td>\n",
       "      <td>4.0.3 and up</td>\n",
       "    </tr>\n",
       "    <tr>\n",
       "      <th>2</th>\n",
       "      <td>U Launcher Lite – FREE Live Cool Themes, Hide ...</td>\n",
       "      <td>ART_AND_DESIGN</td>\n",
       "      <td>4.7</td>\n",
       "      <td>87510</td>\n",
       "      <td>8.7M</td>\n",
       "      <td>5,000,000+</td>\n",
       "      <td>Free</td>\n",
       "      <td>0</td>\n",
       "      <td>Everyone</td>\n",
       "      <td>Art &amp; Design</td>\n",
       "      <td>August 1, 2018</td>\n",
       "      <td>1.2.4</td>\n",
       "      <td>4.0.3 and up</td>\n",
       "    </tr>\n",
       "    <tr>\n",
       "      <th>3</th>\n",
       "      <td>Sketch - Draw &amp; Paint</td>\n",
       "      <td>ART_AND_DESIGN</td>\n",
       "      <td>4.5</td>\n",
       "      <td>215644</td>\n",
       "      <td>25M</td>\n",
       "      <td>50,000,000+</td>\n",
       "      <td>Free</td>\n",
       "      <td>0</td>\n",
       "      <td>Teen</td>\n",
       "      <td>Art &amp; Design</td>\n",
       "      <td>June 8, 2018</td>\n",
       "      <td>Varies with device</td>\n",
       "      <td>4.2 and up</td>\n",
       "    </tr>\n",
       "    <tr>\n",
       "      <th>4</th>\n",
       "      <td>Pixel Draw - Number Art Coloring Book</td>\n",
       "      <td>ART_AND_DESIGN</td>\n",
       "      <td>4.3</td>\n",
       "      <td>967</td>\n",
       "      <td>2.8M</td>\n",
       "      <td>100,000+</td>\n",
       "      <td>Free</td>\n",
       "      <td>0</td>\n",
       "      <td>Everyone</td>\n",
       "      <td>Art &amp; Design;Creativity</td>\n",
       "      <td>June 20, 2018</td>\n",
       "      <td>1.1</td>\n",
       "      <td>4.4 and up</td>\n",
       "    </tr>\n",
       "  </tbody>\n",
       "</table>\n",
       "</div>"
      ],
      "text/plain": [
       "                                                 App        Category  Rating  \\\n",
       "0     Photo Editor & Candy Camera & Grid & ScrapBook  ART_AND_DESIGN     4.1   \n",
       "1                                Coloring book moana  ART_AND_DESIGN     3.9   \n",
       "2  U Launcher Lite – FREE Live Cool Themes, Hide ...  ART_AND_DESIGN     4.7   \n",
       "3                              Sketch - Draw & Paint  ART_AND_DESIGN     4.5   \n",
       "4              Pixel Draw - Number Art Coloring Book  ART_AND_DESIGN     4.3   \n",
       "\n",
       "  Reviews  Size     Installs  Type Price Content Rating  \\\n",
       "0     159   19M      10,000+  Free     0       Everyone   \n",
       "1     967   14M     500,000+  Free     0       Everyone   \n",
       "2   87510  8.7M   5,000,000+  Free     0       Everyone   \n",
       "3  215644   25M  50,000,000+  Free     0           Teen   \n",
       "4     967  2.8M     100,000+  Free     0       Everyone   \n",
       "\n",
       "                      Genres      Last Updated         Current Ver  \\\n",
       "0               Art & Design   January 7, 2018               1.0.0   \n",
       "1  Art & Design;Pretend Play  January 15, 2018               2.0.0   \n",
       "2               Art & Design    August 1, 2018               1.2.4   \n",
       "3               Art & Design      June 8, 2018  Varies with device   \n",
       "4    Art & Design;Creativity     June 20, 2018                 1.1   \n",
       "\n",
       "    Android Ver  \n",
       "0  4.0.3 and up  \n",
       "1  4.0.3 and up  \n",
       "2  4.0.3 and up  \n",
       "3    4.2 and up  \n",
       "4    4.4 and up  "
      ]
     },
     "execution_count": 11,
     "metadata": {},
     "output_type": "execute_result"
    }
   ],
   "source": [
    "df = pd.read_csv(\"googleplaystore.csv\")\n",
    "\n",
    "df.head()"
   ]
  },
  {
   "cell_type": "markdown",
   "metadata": {
    "id": "ODsq7qXECX3g"
   },
   "source": [
    "### Data preprocessing and cleaning"
   ]
  },
  {
   "cell_type": "code",
   "execution_count": 12,
   "metadata": {
    "colab": {
     "base_uri": "https://localhost:8080/"
    },
    "id": "kOwDJgelCX3h",
    "outputId": "48edf43b-ade0-472d-8dd8-a6fdba05368f"
   },
   "outputs": [
    {
     "data": {
      "text/plain": [
       "(10841, 13)"
      ]
     },
     "execution_count": 12,
     "metadata": {},
     "output_type": "execute_result"
    }
   ],
   "source": [
    "df.shape"
   ]
  },
  {
   "cell_type": "code",
   "execution_count": 13,
   "metadata": {
    "colab": {
     "base_uri": "https://localhost:8080/"
    },
    "id": "4arkBXvaCX3h",
    "outputId": "4e42b5c2-5b47-4981-e7d6-7774ae625778"
   },
   "outputs": [
    {
     "data": {
      "text/plain": [
       "App                object\n",
       "Category           object\n",
       "Rating            float64\n",
       "Reviews            object\n",
       "Size               object\n",
       "Installs           object\n",
       "Type               object\n",
       "Price              object\n",
       "Content Rating     object\n",
       "Genres             object\n",
       "Last Updated       object\n",
       "Current Ver        object\n",
       "Android Ver        object\n",
       "dtype: object"
      ]
     },
     "execution_count": 13,
     "metadata": {},
     "output_type": "execute_result"
    }
   ],
   "source": [
    "df.dtypes"
   ]
  },
  {
   "cell_type": "code",
   "execution_count": 14,
   "metadata": {
    "id": "NPBixdlACX3i"
   },
   "outputs": [],
   "source": [
    "# drop 10472 cuz it's abnormal\n",
    "df.drop([10472],inplace = True)"
   ]
  },
  {
   "cell_type": "code",
   "execution_count": 15,
   "metadata": {
    "colab": {
     "base_uri": "https://localhost:8080/"
    },
    "id": "oomtu7KtCX3i",
    "outputId": "65853c9e-b303-4437-d9cf-f9615a4e5d62"
   },
   "outputs": [
    {
     "name": "stdout",
     "output_type": "stream",
     "text": [
      "App : 0 , 0.0\n",
      "Category : 0 , 0.0\n",
      "Rating : 1474 , 0.13597785977859778\n",
      "Reviews : 0 , 0.0\n",
      "Size : 0 , 0.0\n",
      "Installs : 0 , 0.0\n",
      "Type : 1 , 9.225092250922509e-05\n",
      "Price : 0 , 0.0\n",
      "Content Rating : 0 , 0.0\n",
      "Genres : 0 , 0.0\n",
      "Last Updated : 0 , 0.0\n",
      "Current Ver : 8 , 0.0007380073800738007\n",
      "Android Ver : 2 , 0.00018450184501845018\n"
     ]
    }
   ],
   "source": [
    "# 13.5% of rating data are missing. Other fileds almost have no NA\n",
    "# Curren Ver adn Android Ver NA could be ignored\n",
    "for name in df.columns:\n",
    "    print(name,\":\",df[name].isnull().sum(),\",\",df[name].isnull().sum()/df.shape[0])"
   ]
  },
  {
   "cell_type": "code",
   "execution_count": 16,
   "metadata": {
    "id": "rhSPtulhx4kg"
   },
   "outputs": [
    {
     "name": "stderr",
     "output_type": "stream",
     "text": [
      "C:\\Users\\april\\AppData\\Local\\Continuum\\anaconda3\\lib\\site-packages\\ipykernel_launcher.py:40: SettingWithCopyWarning: \n",
      "A value is trying to be set on a copy of a slice from a DataFrame.\n",
      "Try using .loc[row_indexer,col_indexer] = value instead\n",
      "\n",
      "See the caveats in the documentation: http://pandas.pydata.org/pandas-docs/stable/indexing.html#indexing-view-versus-copy\n"
     ]
    }
   ],
   "source": [
    "# repalce NA in Rating column with mean/median\n",
    "df['Rating'].fillna(df['Rating'].mean(), inplace = True)\n",
    "\n",
    "#For Current Version column, before filling null values we have to clean all non numerical values & unicode charachters \n",
    "replaces = [u'\\u00AE', u'\\u2013', u'\\u00C3', u'\\u00E3', u'\\u00B3', '[', ']', \"'\"]\n",
    "for i in replaces:\n",
    "    df['Current Ver'] = df['Current Ver'].astype(str).apply(lambda x : x.replace(i, ''))\n",
    "\n",
    "regex = [r'[-+|/:/;(_)@]', r'\\s+', r'[A-Za-z]+']\n",
    "for j in regex:\n",
    "    df['Current Ver'] = df['Current Ver'].astype(str).apply(lambda x : re.sub(j, '0', x))\n",
    "\n",
    "df['Current Ver'] = df['Current Ver'].astype(str).apply(lambda x : x.replace('.', ',',1).replace('.', '').replace(',', '.',1)).astype(float)\n",
    "df['Current Ver'] = df['Current Ver'].fillna(df['Current Ver'].median())\n",
    "\n",
    "# replace \",\" and \"+\" in installs column\n",
    "df['Installs'] = df['Installs'].str.replace(',','')\n",
    "df['Installs'] = df['Installs'].str.replace('+','')\n",
    "# df['Installs'] = df['Installs'].astype(int)\n",
    "df['Installs'] = pd.to_numeric(df['Installs'])\n",
    "\n",
    "df['Reviews'] = df['Reviews'].astype(str).astype(int)\n",
    "\n",
    "# replace \"M\" in size column\n",
    "clean_size = []\n",
    "for i in range(0,df.shape[0]):\n",
    "    if len(df['Size'].iloc[i].split('M')) == 2:\n",
    "        clean_size.append(int(float(df['Size'].iloc[i].split('M')[0])))\n",
    "    elif len(df['Size'].iloc[i].split('k')) == 2:\n",
    "        clean_size.append(int(float(df['Size'].iloc[i].split('k')[0]))*0.001)\n",
    "    else:\n",
    "        clean_size.append(df['Size'].iloc[i])\n",
    "df['Size'] = clean_size\n",
    "\n",
    "# drop Na in Type, Android Ver\n",
    "df = df[~df['Type'].isna()]\n",
    "df = df[~df['Android Ver'].isna()]\n",
    "\n",
    "# Data Cleaning for Size, for those \"Varies with device\", replace it with median APP size\n",
    "df[df['Size'] != 'Varies with device']['Size'] = df[df['Size'] != 'Varies with device']['Size'].astype('float')\n",
    "mid = np.percentile(df[df['Size'] != 'Varies with device']['Size'].astype('float'), 50)\n",
    "df.loc[df['Size'] == 'Varies with device','Size'] = mid\n",
    "df['Size'] = df['Size'].astype('float')\n",
    "\n",
    "# Remove '$' for Price\n",
    "df['Price'] = df['Price'].str.replace('$','')\n",
    "df['Price'] = df['Price'].astype(\"float\")\n",
    "\n",
    "# Last Updated encoding\n",
    "import datetime\n",
    "df['Last Updated'] = df['Last Updated'].apply(lambda x : time.mktime(datetime.datetime.strptime(x, '%B %d, %Y').timetuple()))"
   ]
  },
  {
   "cell_type": "code",
   "execution_count": 17,
   "metadata": {
    "id": "t5MJJigVCX3j"
   },
   "outputs": [],
   "source": [
    "df.to_csv('data_after_clean.csv')"
   ]
  },
  {
   "cell_type": "markdown",
   "metadata": {
    "id": "DQSA-DJFCX3j"
   },
   "source": [
    "### EDA and Correlation Analysis"
   ]
  },
  {
   "cell_type": "markdown",
   "metadata": {
    "id": "mQkwgJaoCX3l"
   },
   "source": [
    "#### Univariate Exploration"
   ]
  },
  {
   "cell_type": "code",
   "execution_count": 74,
   "metadata": {},
   "outputs": [
    {
     "data": {
      "text/plain": [
       "Text(0.5, 1.0, 'Distribution of Reviews')"
      ]
     },
     "execution_count": 74,
     "metadata": {},
     "output_type": "execute_result"
    },
    {
     "data": {
      "image/png": "[encoded data removed]",
      "text/plain": [
       "<Figure size 432x288 with 1 Axes>"
      ]
     },
     "metadata": {
      "needs_background": "light"
     },
     "output_type": "display_data"
    }
   ],
   "source": [
    "g = sns.kdeplot(df.Rating, color=\"Green\", shade = True)\n",
    "g.set_xlabel(\"Reviews\")\n",
    "g.set_ylabel(\"Frequency\")\n",
    "plt.title('Distribution of Reviews',size = 20)"
   ]
  },
  {
   "cell_type": "code",
   "execution_count": 19,
   "metadata": {},
   "outputs": [
    {
     "data": {
      "text/plain": [
       "Text(0.5, 1.0, 'Distribution of Price')"
      ]
     },
     "execution_count": 19,
     "metadata": {},
     "output_type": "execute_result"
    },
    {
     "data": {
      "image/png": "[encoded data removed]",
      "text/plain": [
       "<Figure size 432x288 with 1 Axes>"
      ]
     },
     "metadata": {
      "needs_background": "light"
     },
     "output_type": "display_data"
    }
   ],
   "source": [
    "g = sns.kdeplot(df.Price, color=\"Green\", shade = True)\n",
    "g.set_xlabel(\"Price\")\n",
    "g.set_ylabel(\"Frequency\")\n",
    "plt.title('Distribution of Price',size = 20)"
   ]
  },
  {
   "cell_type": "code",
   "execution_count": 20,
   "metadata": {
    "colab": {
     "base_uri": "https://localhost:8080/",
     "height": 353
    },
    "id": "CcfKckGNCX3l",
    "outputId": "1f19c6db-67ae-4264-985e-6e3af4b99c1f"
   },
   "outputs": [
    {
     "data": {
      "image/png": "[encoded data removed]",
      "text/plain": [
       "<Figure size 864x360 with 1 Axes>"
      ]
     },
     "metadata": {
      "needs_background": "light"
     },
     "output_type": "display_data"
    }
   ],
   "source": [
    "# Installs is highly skewed in distribution, so we convert Installs to a log scale for visualization\n",
    "log_binsize = 1\n",
    "bins = 10 ** np.arange(0, np.log10(df['Installs'].max())+log_binsize, log_binsize)\n",
    "\n",
    "plt.figure(figsize=[12, 5])\n",
    "plt.hist(data = df, x = 'Installs', bins = bins, color = 'lightsteelblue')\n",
    "plt.xscale('log')\n",
    "plt.xlabel('installs')\n",
    "plt.ylabel('count')\n",
    "plt.title('Installs Distribution')\n",
    "plt.show()"
   ]
  },
  {
   "cell_type": "code",
   "execution_count": 21,
   "metadata": {
    "colab": {
     "base_uri": "https://localhost:8080/",
     "height": 353
    },
    "id": "olIdUVpkCX3m",
    "outputId": "1679e496-a033-417f-969f-f262878c7b51"
   },
   "outputs": [
    {
     "data": {
      "image/png": "[encoded data removed]",
      "text/plain": [
       "<Figure size 864x360 with 1 Axes>"
      ]
     },
     "metadata": {
      "needs_background": "light"
     },
     "output_type": "display_data"
    }
   ],
   "source": [
    "# Reviews is highly skewed in distribution, so we convert Installs to a log scale for visualization\n",
    "log_binsize = 1\n",
    "bins = 10 ** np.arange(0, np.log10(df['Reviews'].max())+log_binsize, log_binsize)\n",
    "\n",
    "plt.figure(figsize=[12, 5])\n",
    "plt.hist(data = df, x = 'Reviews', bins = bins, color = 'lightsteelblue')\n",
    "plt.xscale('log')\n",
    "plt.xlabel('Reviews')\n",
    "plt.ylabel('count')\n",
    "plt.title('Reviews Distribution')\n",
    "plt.show()"
   ]
  },
  {
   "cell_type": "markdown",
   "metadata": {
    "id": "HJUeONYuCX3m"
   },
   "source": [
    "#### Bivariate Exploration"
   ]
  },
  {
   "cell_type": "code",
   "execution_count": 22,
   "metadata": {
    "colab": {
     "base_uri": "https://localhost:8080/",
     "height": 390
    },
    "id": "ol4Nve06CX3m",
    "outputId": "8c75159c-c260-4c32-e08d-c9cae0ec4bb4"
   },
   "outputs": [
    {
     "data": {
      "image/png": "[encoded data removed]",
      "text/plain": [
       "<Figure size 576x432 with 2 Axes>"
      ]
     },
     "metadata": {
      "needs_background": "light"
     },
     "output_type": "display_data"
    }
   ],
   "source": [
    "numeric_vars = ['Rating','Reviews','Size','Installs','Price']\n",
    "\n",
    "plt.figure(figsize = [8, 6])\n",
    "sns.heatmap(df[numeric_vars].corr(), annot = True, fmt = '.3f',cmap = 'vlag_r', center = 0)\n",
    "plt.title('Numeric Variables Heatmap')\n",
    "plt.show()"
   ]
  },
  {
   "cell_type": "code",
   "execution_count": 23,
   "metadata": {},
   "outputs": [
    {
     "name": "stderr",
     "output_type": "stream",
     "text": [
      "C:\\Users\\april\\AppData\\Local\\Continuum\\anaconda3\\lib\\site-packages\\seaborn\\axisgrid.py:2262: UserWarning: The `size` paramter has been renamed to `height`; please update your code.\n",
      "  warnings.warn(msg, UserWarning)\n"
     ]
    },
    {
     "data": {
      "text/plain": [
       "<Figure size 720x720 with 0 Axes>"
      ]
     },
     "metadata": {},
     "output_type": "display_data"
    },
    {
     "data": {
      "image/png": "[encoded data removed]",
      "text/plain": [
       "<Figure size 576x576 with 3 Axes>"
      ]
     },
     "metadata": {
      "needs_background": "light"
     },
     "output_type": "display_data"
    }
   ],
   "source": [
    "# Revivews and Rating\n",
    "plt.figure(figsize = (10,10))\n",
    "g = sns.jointplot(x=\"Reviews\", y=\"Rating\",color = 'orange', data=df,size = 8);"
   ]
  },
  {
   "cell_type": "code",
   "execution_count": 24,
   "metadata": {},
   "outputs": [
    {
     "data": {
      "text/plain": [
       "Text(0.5, 1.0, 'Rating VS Reveiws')"
      ]
     },
     "execution_count": 24,
     "metadata": {},
     "output_type": "execute_result"
    },
    {
     "data": {
      "image/png": "[encoded data removed]",
      "text/plain": [
       "<Figure size 720x720 with 1 Axes>"
      ]
     },
     "metadata": {
      "needs_background": "light"
     },
     "output_type": "display_data"
    }
   ],
   "source": [
    "plt.figure(figsize = (10,10))\n",
    "sns.regplot(x=\"Reviews\", y=\"Rating\", color = 'darkorange',data=df[df['Reviews']<1000000]);\n",
    "plt.title('Rating VS Reveiws',size = 20)"
   ]
  },
  {
   "cell_type": "code",
   "execution_count": 23,
   "metadata": {},
   "outputs": [
    {
     "data": {
      "text/plain": [
       "Text(0.5, 1.0, 'Rating VS Installs')"
      ]
     },
     "execution_count": 23,
     "metadata": {},
     "output_type": "execute_result"
    },
    {
     "data": {
      "image/png": "[encoded data removed]",
      "text/plain": [
       "<Figure size 720x720 with 1 Axes>"
      ]
     },
     "metadata": {
      "needs_background": "light"
     },
     "output_type": "display_data"
    }
   ],
   "source": [
    "plt.figure(figsize = (10,10))\n",
    "sns.regplot(x=\"Installs\", y=\"Rating\", color = 'teal',data=df)\n",
    "plt.title('Rating VS Installs',size = 20)"
   ]
  },
  {
   "cell_type": "markdown",
   "metadata": {
    "id": "qG6pZm6kCX3n"
   },
   "source": [
    "### Model Building\n",
    "#### Preprocessing: Split to X, y and Label Encoding\n",
    "Drop Android Ver and Current Ver since not much business sense here."
   ]
  },
  {
   "cell_type": "code",
   "execution_count": 32,
   "metadata": {},
   "outputs": [
    {
     "data": {
      "text/plain": [
       "App                object\n",
       "Category           object\n",
       "Rating            float64\n",
       "Reviews             int32\n",
       "Size              float64\n",
       "Installs            int64\n",
       "Type               object\n",
       "Price             float64\n",
       "Content Rating     object\n",
       "Genres             object\n",
       "Last Updated      float64\n",
       "Current Ver       float64\n",
       "Android Ver        object\n",
       "dtype: object"
      ]
     },
     "execution_count": 32,
     "metadata": {},
     "output_type": "execute_result"
    }
   ],
   "source": [
    "df.dtypes"
   ]
  },
  {
   "cell_type": "code",
   "execution_count": 77,
   "metadata": {
    "colab": {
     "base_uri": "https://localhost:8080/",
     "height": 528
    },
    "id": "Zofmms-sCX3n",
    "outputId": "f1ec5e04-1ffd-4559-8b37-575a496d91a4"
   },
   "outputs": [
    {
     "name": "stderr",
     "output_type": "stream",
     "text": [
      "C:\\Users\\april\\AppData\\Local\\Continuum\\anaconda3\\lib\\site-packages\\ipykernel_launcher.py:7: SettingWithCopyWarning: \n",
      "A value is trying to be set on a copy of a slice from a DataFrame.\n",
      "Try using .loc[row_indexer,col_indexer] = value instead\n",
      "\n",
      "See the caveats in the documentation: http://pandas.pydata.org/pandas-docs/stable/indexing.html#indexing-view-versus-copy\n",
      "  import sys\n"
     ]
    }
   ],
   "source": [
    "X = df.loc[:, ~df.columns.isin(['Rating','Android Ver','Current Ver'])]\n",
    "y = df['Rating']\n",
    "\n",
    "# Label Encoding on categorical values\n",
    "le = LabelEncoder()\n",
    "for i in ['Category','Type','Content Rating','Genres']:\n",
    "    X[i] = le.fit_transform(X[i].values)"
   ]
  },
  {
   "cell_type": "markdown",
   "metadata": {
    "id": "2fCb7BTaCX3n"
   },
   "source": [
    "#### Train Test Split"
   ]
  },
  {
   "cell_type": "code",
   "execution_count": 78,
   "metadata": {
    "colab": {
     "base_uri": "https://localhost:8080/",
     "height": 423
    },
    "id": "n86ADiiSCX3n",
    "outputId": "73d98996-ed04-4c68-a7ef-5b3de35a7ef0"
   },
   "outputs": [],
   "source": [
    "# Do Train Test Split\n",
    "X_train, X_test, y_train, y_test = train_test_split(X, y, test_size=0.3, random_state=42)"
   ]
  },
  {
   "cell_type": "markdown",
   "metadata": {
    "id": "cwKebH0mCX3n"
   },
   "source": [
    "#### StandardScalar Before Regression"
   ]
  },
  {
   "cell_type": "code",
   "execution_count": 79,
   "metadata": {
    "colab": {
     "base_uri": "https://localhost:8080/",
     "height": 423
    },
    "id": "i5NJlryhCX3n",
    "outputId": "88290dbd-c047-4ef5-e54a-aaa8f22a8923"
   },
   "outputs": [
    {
     "name": "stderr",
     "output_type": "stream",
     "text": [
      "C:\\Users\\april\\AppData\\Local\\Continuum\\anaconda3\\lib\\site-packages\\ipykernel_launcher.py:4: SettingWithCopyWarning: \n",
      "A value is trying to be set on a copy of a slice from a DataFrame.\n",
      "Try using .loc[row_indexer,col_indexer] = value instead\n",
      "\n",
      "See the caveats in the documentation: http://pandas.pydata.org/pandas-docs/stable/indexing.html#indexing-view-versus-copy\n",
      "  after removing the cwd from sys.path.\n",
      "C:\\Users\\april\\AppData\\Local\\Continuum\\anaconda3\\lib\\site-packages\\pandas\\core\\indexing.py:543: SettingWithCopyWarning: \n",
      "A value is trying to be set on a copy of a slice from a DataFrame.\n",
      "Try using .loc[row_indexer,col_indexer] = value instead\n",
      "\n",
      "See the caveats in the documentation: http://pandas.pydata.org/pandas-docs/stable/indexing.html#indexing-view-versus-copy\n",
      "  self.obj[item] = s\n",
      "C:\\Users\\april\\AppData\\Local\\Continuum\\anaconda3\\lib\\site-packages\\ipykernel_launcher.py:5: SettingWithCopyWarning: \n",
      "A value is trying to be set on a copy of a slice from a DataFrame.\n",
      "Try using .loc[row_indexer,col_indexer] = value instead\n",
      "\n",
      "See the caveats in the documentation: http://pandas.pydata.org/pandas-docs/stable/indexing.html#indexing-view-versus-copy\n",
      "  \"\"\"\n",
      "C:\\Users\\april\\AppData\\Local\\Continuum\\anaconda3\\lib\\site-packages\\pandas\\core\\indexing.py:543: SettingWithCopyWarning: \n",
      "A value is trying to be set on a copy of a slice from a DataFrame.\n",
      "Try using .loc[row_indexer,col_indexer] = value instead\n",
      "\n",
      "See the caveats in the documentation: http://pandas.pydata.org/pandas-docs/stable/indexing.html#indexing-view-versus-copy\n",
      "  self.obj[item] = s\n"
     ]
    }
   ],
   "source": [
    "# Standard Scalar after train test split to prevent data leakage\n",
    "scaler = StandardScaler()\n",
    "num_cols = ['Reviews','Size','Installs','Price','Last Updated']\n",
    "X_train[num_cols] = scaler.fit_transform(X_train[num_cols])\n",
    "X_test[num_cols] = scaler.fit_transform(X_test[num_cols])"
   ]
  },
  {
   "cell_type": "markdown",
   "metadata": {
    "id": "LioUSc4qtadT"
   },
   "source": [
    "### Modelling:"
   ]
  },
  {
   "cell_type": "markdown",
   "metadata": {
    "id": "IszJSf9uD9lZ"
   },
   "source": [
    "### Linear Regression"
   ]
  },
  {
   "cell_type": "code",
   "execution_count": 80,
   "metadata": {
    "colab": {
     "base_uri": "https://localhost:8080/"
    },
    "id": "X5V2hAPHCX3n",
    "outputId": "175a2884-f034-45b3-ab7d-1cc0faa1dfce"
   },
   "outputs": [
    {
     "data": {
      "text/plain": [
       "array([4.20749859, 4.23028551, 4.09882228, ..., 4.22051381, 4.21153079,\n",
       "       4.17388809])"
      ]
     },
     "execution_count": 80,
     "metadata": {},
     "output_type": "execute_result"
    }
   ],
   "source": [
    "from sklearn.linear_model import LinearRegression\n",
    "\n",
    "# Creating an object of LinearRegression class\n",
    "LR = LinearRegression()\n",
    "\n",
    "# Fitting the training data\n",
    "\n",
    "X_train = X_train.drop(labels='App', axis=1)\n",
    "X_test = X_test.drop(labels='App', axis=1)\n",
    "\n",
    "LR.fit(X_train,y_train)\n",
    "\n",
    "#Getting Prediction\n",
    "y_prediction =  LR.predict(X_test)\n",
    "y_prediction"
   ]
  },
  {
   "cell_type": "code",
   "execution_count": 81,
   "metadata": {},
   "outputs": [
    {
     "name": "stdout",
     "output_type": "stream",
     "text": [
      "Category 0.0006539031619827126\n",
      "Reviews 0.028244542324720165\n",
      "Size 0.009429180819958381\n",
      "Installs -0.00037652941573741255\n",
      "Type 0.13462706470534688\n",
      "Price -0.015524807241750524\n",
      "Content Rating -0.00116149515413609\n",
      "Genres -0.0006430184301237624\n",
      "Last Updated 0.07192441314655476\n"
     ]
    }
   ],
   "source": [
    "i=0\n",
    "for column in X_train.columns: \n",
    "    print(column,LR.coef_[i])\n",
    "    i+=1"
   ]
  },
  {
   "cell_type": "code",
   "execution_count": 82,
   "metadata": {
    "colab": {
     "base_uri": "https://localhost:8080/"
    },
    "id": "_G9z2lJAOkkV",
    "outputId": "ae2f6907-e725-4f37-f998-b4904331b096"
   },
   "outputs": [
    {
     "name": "stdout",
     "output_type": "stream",
     "text": [
      "0.22194963162782289\n",
      "0.4711153060852756\n"
     ]
    }
   ],
   "source": [
    "# Importing R Squared module\n",
    "from sklearn.metrics import mean_squared_error\n",
    "\n",
    "# Calculate OOS Mean Squared Error\n",
    "LR_mse = mean_squared_error(y_test,y_prediction)\n",
    "print(mean_squared_error(y_test,y_prediction))\n",
    "print(np.sqrt(mean_squared_error(y_test,y_prediction)))"
   ]
  },
  {
   "cell_type": "markdown",
   "metadata": {
    "id": "M_MKAdRqgqRA"
   },
   "source": [
    "### Linear Regression with Interaction"
   ]
  },
  {
   "cell_type": "code",
   "execution_count": 83,
   "metadata": {
    "colab": {
     "base_uri": "https://localhost:8080/"
    },
    "id": "uLGVvyf5fsV_",
    "outputId": "638424ca-d2e4-49bd-cdb5-95591a2da9d6"
   },
   "outputs": [
    {
     "data": {
      "text/plain": [
       "array([4.21463307, 4.17934444, 4.07068211, ..., 4.2206565 , 4.19145099,\n",
       "       4.17431932])"
      ]
     },
     "execution_count": 83,
     "metadata": {},
     "output_type": "execute_result"
    }
   ],
   "source": [
    "from sklearn.preprocessing import PolynomialFeatures\n",
    "\n",
    "X = X.drop(labels='App', axis=1)\n",
    "\n",
    "#Adding Interaction Terms \n",
    "interaction = PolynomialFeatures(degree=2, include_bias=False, interaction_only=True)\n",
    "X_inter = interaction.fit_transform(X)\n",
    "\n",
    "# Do Train Test Split for Data with Interaction Terms\n",
    "X_train2, X_test2, y_train2, y_test2 = train_test_split(X_inter, y, test_size=0.3, random_state=42)\n",
    "X_train2\n",
    "\n",
    "#Fit Models and Get Predictions\n",
    "LR2 = LinearRegression()\n",
    "LR2.fit(X_train2,y_train2)\n",
    "\n",
    "y_prediction2 = LR2.predict(X_test2)\n",
    "y_prediction2\n"
   ]
  },
  {
   "cell_type": "code",
   "execution_count": 84,
   "metadata": {
    "colab": {
     "base_uri": "https://localhost:8080/"
    },
    "id": "lBu5-SUTfss0",
    "outputId": "b6929a59-8042-4df0-d510-60a822624e81"
   },
   "outputs": [
    {
     "name": "stdout",
     "output_type": "stream",
     "text": [
      "0.21912004424926812\n",
      "0.4681026001308561\n"
     ]
    }
   ],
   "source": [
    "# Calculate OOS Mean Squared Error\n",
    "LR_mse_int = mean_squared_error(y_test2,y_prediction2)\n",
    "print(mean_squared_error(y_test2,y_prediction2))\n",
    "print(np.sqrt(mean_squared_error(y_test2,y_prediction2)))"
   ]
  },
  {
   "cell_type": "markdown",
   "metadata": {
    "id": "OSvE9wZptEUE"
   },
   "source": [
    "### LASSO Regression"
   ]
  },
  {
   "cell_type": "code",
   "execution_count": 86,
   "metadata": {
    "colab": {
     "base_uri": "https://localhost:8080/"
    },
    "id": "KG6dbvjNqCQ1",
    "outputId": "d40c129e-6578-43d2-e6f8-45497426e82b"
   },
   "outputs": [
    {
     "name": "stdout",
     "output_type": "stream",
     "text": [
      "[('Category', 0.0003492591431359316), ('Reviews', 0.018790545137149797), ('Size', 0.002479476500040324), ('Installs', 0.0), ('Type', 0.0), ('Price', -0.0), ('Content Rating', -0.0), ('Genres', -0.0005900810121726546), ('Last Updated', 0.05782715717447565)]\n",
      "0.22318083058797397\n",
      "0.47242018435707633\n"
     ]
    }
   ],
   "source": [
    "#Defining Lasso\n",
    "model_lasso = Lasso(alpha=0.01)\n",
    "\n",
    "#Fitting the Model\n",
    "model_lasso.fit(X_train, y_train) \n",
    "pred_train_lasso= model_lasso.predict(X_train)\n",
    "\n",
    "# Print LASSO coefficients\n",
    "coef_zip = zip(X_train.columns, model_lasso.coef_)\n",
    "zipped_list = list(coef_zip)\n",
    "print(zipped_list)\n",
    "\n",
    "#Getting OOS MSE\n",
    "pred_test_lasso= model_lasso.predict(X_test)\n",
    "lasso_mse = mean_squared_error(y_test,pred_test_lasso)\n",
    "print(mean_squared_error(y_test,pred_test_lasso))\n",
    "print(np.sqrt(mean_squared_error(y_test,pred_test_lasso))) "
   ]
  },
  {
   "cell_type": "markdown",
   "metadata": {},
   "source": [
    "### LASSO Regression with interaction"
   ]
  },
  {
   "cell_type": "code",
   "execution_count": 91,
   "metadata": {
    "colab": {
     "base_uri": "https://localhost:8080/"
    },
    "id": "jxM3k_QLp8ta",
    "outputId": "28b33326-a01b-4ca4-b3c9-edd794b36b85"
   },
   "outputs": [
    {
     "name": "stdout",
     "output_type": "stream",
     "text": [
      "0.2190792051813472\n",
      "0.4680589761785871\n"
     ]
    },
    {
     "name": "stderr",
     "output_type": "stream",
     "text": [
      "C:\\Users\\april\\AppData\\Local\\Continuum\\anaconda3\\lib\\site-packages\\sklearn\\linear_model\\_coordinate_descent.py:648: ConvergenceWarning: Objective did not converge. You might want to increase the number of iterations, check the scale of the features or consider increasing regularisation. Duality gap: 8.346e+02, tolerance: 1.747e-01\n",
      "  coef_, l1_reg, l2_reg, X, y, max_iter, tol, rng, random, positive\n"
     ]
    }
   ],
   "source": [
    "#Defining Lasso\n",
    "model_lasso = Lasso(alpha=0.01)\n",
    "\n",
    "#Fitting the Model\n",
    "model_lasso.fit(X_train2, y_train2) \n",
    "pred_train_lasso= model_lasso.predict(X_train2)\n",
    "\n",
    "#Getting OOS Accuracy\n",
    "pred_test_lasso2= model_lasso.predict(X_test2)\n",
    "lasso_mse_int = mean_squared_error(y_test2,pred_test_lasso2)\n",
    "print(mean_squared_error(y_test2,pred_test_lasso2))\n",
    "print(np.sqrt(mean_squared_error(y_test2,pred_test_lasso2))) "
   ]
  },
  {
   "cell_type": "markdown",
   "metadata": {
    "id": "oJRzxs7atSmV"
   },
   "source": [
    "### Ridge Regressions"
   ]
  },
  {
   "cell_type": "code",
   "execution_count": 90,
   "metadata": {
    "colab": {
     "base_uri": "https://localhost:8080/"
    },
    "id": "5Eo5_RCOtXY0",
    "outputId": "1bd4d00c-87cb-45f3-d681-f28fdfbe7232"
   },
   "outputs": [
    {
     "name": "stdout",
     "output_type": "stream",
     "text": [
      "0.22194962473379135\n",
      "0.4711152987685619\n"
     ]
    }
   ],
   "source": [
    "#Defining Ridge\n",
    "rr = Ridge(alpha=0.01)\n",
    "\n",
    "#Fitting Model\n",
    "rr.fit(X_train, y_train) \n",
    "\n",
    "#Getting OOS Accuracy\n",
    "pred_test_rr= rr.predict(X_test)\n",
    "rr_mse = mean_squared_error(y_test,pred_test_rr)\n",
    "print(mean_squared_error(y_test,pred_test_rr))\n",
    "print(np.sqrt(mean_squared_error(y_test,pred_test_rr))) "
   ]
  },
  {
   "cell_type": "markdown",
   "metadata": {},
   "source": [
    "### Ridge Regression with interaction"
   ]
  },
  {
   "cell_type": "code",
   "execution_count": 92,
   "metadata": {
    "colab": {
     "base_uri": "https://localhost:8080/"
    },
    "id": "8pg1ghZ1tXxk",
    "outputId": "c99bb818-fe21-4c48-aac4-fca79c1bd1f0"
   },
   "outputs": [
    {
     "name": "stdout",
     "output_type": "stream",
     "text": [
      "0.22299155036675225\n",
      "0.47221981149328357\n"
     ]
    },
    {
     "name": "stderr",
     "output_type": "stream",
     "text": [
      "C:\\Users\\april\\AppData\\Local\\Continuum\\anaconda3\\lib\\site-packages\\sklearn\\linear_model\\_ridge.py:157: LinAlgWarning: Ill-conditioned matrix (rcond=2.94688e-39): result may not be accurate.\n",
      "  return linalg.solve(A, Xy, sym_pos=True, overwrite_a=True).T\n"
     ]
    }
   ],
   "source": [
    "#Defining Ridge\n",
    "rr = Ridge(alpha=0.01)\n",
    "\n",
    "#Fitting Model\n",
    "rr.fit(X_train2, y_train2) \n",
    "\n",
    "#Getting OOS Accuracy\n",
    "pred_test_rr2= rr.predict(X_test2)\n",
    "rr_mse_int = mean_squared_error(y_test2,pred_test_rr2)\n",
    "print(rr_mse_int)\n",
    "print(np.sqrt(mean_squared_error(y_test2,pred_test_rr2))) "
   ]
  },
  {
   "cell_type": "markdown",
   "metadata": {
    "id": "FKPISU9B746w"
   },
   "source": [
    "### Random Forest Regressor Model"
   ]
  },
  {
   "cell_type": "code",
   "execution_count": 93,
   "metadata": {
    "colab": {
     "base_uri": "https://localhost:8080/",
     "height": 680
    },
    "id": "8m7kN2Rw74zr",
    "outputId": "23ae2a0f-0482-40a0-8e4f-9e76eebd7964"
   },
   "outputs": [
    {
     "data": {
      "text/plain": [
       "RandomForestRegressor(n_jobs=-1)"
      ]
     },
     "execution_count": 93,
     "metadata": {},
     "output_type": "execute_result"
    }
   ],
   "source": [
    "# Try a baseline RF Regressor\n",
    "model = RandomForestRegressor(n_jobs=-1)\n",
    "model.fit(X_train,y_train)"
   ]
  },
  {
   "cell_type": "code",
   "execution_count": 96,
   "metadata": {
    "colab": {
     "base_uri": "https://localhost:8080/"
    },
    "id": "FvJYiT3w-HA7",
    "outputId": "4f81fc6b-90fc-4bbb-e95a-dbf446c96b52"
   },
   "outputs": [
    {
     "name": "stdout",
     "output_type": "stream",
     "text": [
      "Mean Absolute Error: 0.34099337138150315\n",
      "Mean Squared Error: 0.28233756363935225\n",
      "Root Mean Squared Error: 0.5313544613902779\n"
     ]
    }
   ],
   "source": [
    "predictions = model.predict(X_test)\n",
    "\n",
    "print('Mean Absolute Error:', metrics.mean_absolute_error(y_test, predictions))\n",
    "\n",
    "rf_mse = metrics.mean_squared_error(y_test, predictions)\n",
    "print('Mean Squared Error:', metrics.mean_squared_error(y_test, predictions))\n",
    "\n",
    "print('Root Mean Squared Error:', np.sqrt(metrics.mean_squared_error(y_test, predictions)))"
   ]
  },
  {
   "cell_type": "markdown",
   "metadata": {},
   "source": [
    "### Tune RFR parameters"
   ]
  },
  {
   "cell_type": "markdown",
   "metadata": {},
   "source": [
    "#### Grid Search"
   ]
  },
  {
   "cell_type": "code",
   "execution_count": 65,
   "metadata": {},
   "outputs": [],
   "source": [
    "from sklearn.model_selection import GridSearchCV\n",
    "# Create the parameter grid based on the results of random search \n",
    "param_grid = {\n",
    "    'bootstrap': [True],\n",
    "    'max_depth': [80, 90, 100, 110],\n",
    "    'max_features': [2, 3],\n",
    "    'min_samples_leaf': [3, 4, 5],\n",
    "    'min_samples_split': [8, 10, 12],\n",
    "    'n_estimators': [100, 200, 300, 1000]\n",
    "}\n",
    "# Create a based model\n",
    "rfr_gs = RandomForestRegressor()\n",
    "# Instantiate the grid search model\n",
    "grid_search = GridSearchCV(estimator = model, param_grid = param_grid, \n",
    "                          cv = 3, n_jobs = -1, verbose = 2)"
   ]
  },
  {
   "cell_type": "code",
   "execution_count": 66,
   "metadata": {},
   "outputs": [
    {
     "name": "stdout",
     "output_type": "stream",
     "text": [
      "Fitting 3 folds for each of 288 candidates, totalling 864 fits\n"
     ]
    },
    {
     "data": {
      "text/plain": [
       "GridSearchCV(cv=3, estimator=RandomForestRegressor(n_jobs=-1), n_jobs=-1,\n",
       "             param_grid={'bootstrap': [True], 'max_depth': [80, 90, 100, 110],\n",
       "                         'max_features': [2, 3], 'min_samples_leaf': [3, 4, 5],\n",
       "                         'min_samples_split': [8, 10, 12],\n",
       "                         'n_estimators': [100, 200, 300, 1000]},\n",
       "             verbose=2)"
      ]
     },
     "execution_count": 66,
     "metadata": {},
     "output_type": "execute_result"
    }
   ],
   "source": [
    "grid_search.fit(X_train, y_train)"
   ]
  },
  {
   "cell_type": "code",
   "execution_count": 67,
   "metadata": {},
   "outputs": [
    {
     "data": {
      "text/plain": [
       "{'bootstrap': True,\n",
       " 'max_depth': 90,\n",
       " 'max_features': 3,\n",
       " 'min_samples_leaf': 3,\n",
       " 'min_samples_split': 8,\n",
       " 'n_estimators': 1000}"
      ]
     },
     "execution_count": 67,
     "metadata": {},
     "output_type": "execute_result"
    }
   ],
   "source": [
    "grid_search.best_params_"
   ]
  },
  {
   "cell_type": "code",
   "execution_count": 97,
   "metadata": {},
   "outputs": [
    {
     "data": {
      "text/plain": [
       "RandomForestRegressor(max_depth=90, max_features=3, min_samples_leaf=3,\n",
       "                      min_samples_split=8, n_estimators=1000)"
      ]
     },
     "execution_count": 97,
     "metadata": {},
     "output_type": "execute_result"
    }
   ],
   "source": [
    "# fit with hyperparameters\n",
    "rfr_gs = RandomForestRegressor(bootstrap=True,\n",
    " max_depth= 90,\n",
    " max_features= 3,\n",
    " min_samples_leaf= 3,\n",
    " min_samples_split= 8,\n",
    " n_estimators=1000)\n",
    "\n",
    "rfr_gs.fit(X_train, y_train)"
   ]
  },
  {
   "cell_type": "code",
   "execution_count": 100,
   "metadata": {},
   "outputs": [
    {
     "name": "stdout",
     "output_type": "stream",
     "text": [
      "Mean Absolute Error: 0.33394486512893373\n",
      "Mean Squared Error: 0.27385702483807844\n",
      "Root Mean Squared Error: 0.5233135053083176\n"
     ]
    }
   ],
   "source": [
    "# predict\n",
    "predictions = rfr_gs.predict(X_test)\n",
    "rf_gs_mse = metrics.mean_squared_error(y_test, predictions)\n",
    "print('Mean Absolute Error:', metrics.mean_absolute_error(y_test, predictions))\n",
    "print('Mean Squared Error:', metrics.mean_squared_error(y_test, predictions))\n",
    "print('Root Mean Squared Error:', np.sqrt(metrics.mean_squared_error(y_test, predictions)))"
   ]
  },
  {
   "cell_type": "markdown",
   "metadata": {},
   "source": [
    "### Summary Plot of MSE of all models"
   ]
  },
  {
   "cell_type": "code",
   "execution_count": 113,
   "metadata": {},
   "outputs": [
    {
     "data": {
      "image/png": "[encoded data removed]",
      "text/plain": [
       "<Figure size 720x360 with 1 Axes>"
      ]
     },
     "metadata": {
      "needs_background": "light"
     },
     "output_type": "display_data"
    }
   ],
   "source": [
    "fig = plt.figure(figsize = (10, 5))\n",
    "\n",
    "model_name = ['LR','LR+Interaction','Lasso','Lasso+Interaction','Ridge','Ridge+Interaction','RandomForestRegressor']\n",
    "mse_list = [LR_mse,LR_mse_int,lasso_mse,lasso_mse_int,rr_mse,rr_mse_int,rf_gs_mse]\n",
    "\n",
    "# creating the bar plot\n",
    "plt.bar(model_name, mse_list, color ='maroon',\n",
    "        width = 0.4)\n",
    " \n",
    "plt.xlabel(\"Model Name\")\n",
    "plt.ylabel(\"MSE\")\n",
    "plt.title(\"Different Model Performance - MSE\")\n",
    "plt.xticks(rotation = 15)\n",
    "\n",
    "for i in range(len(model_name)):\n",
    "    plt.annotate(str(round(mse_list[i],3)), xy=(model_name[i],mse_list[i]), ha='center', va='bottom')\n",
    "\n",
    "plt.show()"
   ]
  },
  {
   "cell_type": "markdown",
   "metadata": {
    "id": "BziT-Eyr9Wz2"
   },
   "source": [
    "### Feature Importance"
   ]
  },
  {
   "cell_type": "code",
   "execution_count": 70,
   "metadata": {
    "colab": {
     "base_uri": "https://localhost:8080/"
    },
    "id": "PIOhjtNo_img",
    "outputId": "9d450a42-d3e7-4312-8aa6-b6654ef3ed1b"
   },
   "outputs": [
    {
     "data": {
      "text/plain": [
       "array([0.08138433, 0.28520898, 0.16176821, 0.08760861, 0.00482595,\n",
       "       0.0181766 , 0.02185994, 0.08895375, 0.25021363])"
      ]
     },
     "execution_count": 70,
     "metadata": {},
     "output_type": "execute_result"
    }
   ],
   "source": [
    "rf = RandomForestRegressor(n_estimators=60)\n",
    "rf.fit(X_train, y_train)\n",
    "rf.feature_importances_"
   ]
  },
  {
   "cell_type": "code",
   "execution_count": 71,
   "metadata": {
    "colab": {
     "base_uri": "https://localhost:8080/",
     "height": 296
    },
    "id": "SMn0NGnt_pzb",
    "outputId": "e5860583-16f9-448f-ea49-0de0e90b2bfc"
   },
   "outputs": [
    {
     "data": {
      "text/plain": [
       "Text(0.5, 0, 'Random Forest Feature Importance')"
      ]
     },
     "execution_count": 71,
     "metadata": {},
     "output_type": "execute_result"
    },
    {
     "data": {
      "image/png": "[encoded data removed]",
      "text/plain": [
       "<Figure size 432x288 with 1 Axes>"
      ]
     },
     "metadata": {
      "needs_background": "light"
     },
     "output_type": "display_data"
    }
   ],
   "source": [
    "sorted_idx = rf.feature_importances_.argsort()\n",
    "plt.barh(X_train.columns[sorted_idx], rf.feature_importances_[sorted_idx])\n",
    "plt.xlabel(\"Random Forest Feature Importance\")"
   ]
  },
  {
   "cell_type": "markdown",
   "metadata": {},
   "source": [
    "### Business Recommendations: Important attributes for a high-rating APPs \n"
   ]
  },
  {
   "cell_type": "markdown",
   "metadata": {},
   "source": [
    "#### LASSO result"
   ]
  },
  {
   "cell_type": "code",
   "execution_count": 114,
   "metadata": {},
   "outputs": [
    {
     "name": "stdout",
     "output_type": "stream",
     "text": [
      "('Category', 0.0003492591431359316)\n",
      "('Reviews', 0.018790545137149797)\n",
      "('Size', 0.002479476500040324)\n",
      "('Installs', 0.0)\n",
      "('Type', 0.0)\n",
      "('Price', -0.0)\n",
      "('Content Rating', -0.0)\n",
      "('Genres', -0.0005900810121726546)\n",
      "('Last Updated', 0.05782715717447565)\n",
      "0.47242018435707633\n",
      "0.01790283450452068\n"
     ]
    }
   ],
   "source": [
    "for i in zipped_list:\n",
    "    print(i)\n",
    "print(np.sqrt(mean_squared_error(y_test,pred_test_lasso))) \n",
    "print(r2_score(y_test, pred_test_lasso))"
   ]
  },
  {
   "cell_type": "markdown",
   "metadata": {},
   "source": [
    "#### Random Forest Regressor Result"
   ]
  },
  {
   "cell_type": "code",
   "execution_count": 73,
   "metadata": {},
   "outputs": [
    {
     "data": {
      "text/plain": [
       "Text(0.5, 0, 'Random Forest Feature Importance')"
      ]
     },
     "execution_count": 73,
     "metadata": {},
     "output_type": "execute_result"
    },
    {
     "data": {
      "image/png": "[encoded data removed]",
      "text/plain": [
       "<Figure size 432x288 with 1 Axes>"
      ]
     },
     "metadata": {
      "needs_background": "light"
     },
     "output_type": "display_data"
    }
   ],
   "source": [
    "sorted_idx = rf.feature_importances_.argsort()\n",
    "plt.barh(X_train.columns[sorted_idx], rf.feature_importances_[sorted_idx])\n",
    "plt.xlabel(\"Random Forest Feature Importance\")\n"
   ]
  },
  {
   "cell_type": "markdown",
   "metadata": {},
   "source": [
    "#### Comining the lasso and random forest's results, we can infer the most important attributes for a high-rating APPs are: 1. Reviews 2. Last Updated 3. Size "
   ]
  }
 ],
 "metadata": {
  "colab": {
   "collapsed_sections": [],
   "name": "final_project_Clean_Explor_Preprocess.ipynb",
   "provenance": []
  },
  "kernelspec": {
   "display_name": "Python 3",
   "language": "python",
   "name": "python3"
  },
  "language_info": {
   "codemirror_mode": {
    "name": "ipython",
    "version": 3
   },
   "file_extension": ".py",
   "mimetype": "text/x-python",
   "name": "python",
   "nbconvert_exporter": "python",
   "pygments_lexer": "ipython3",
   "version": "3.7.6"
  }
 },
 "nbformat": 4,
 "nbformat_minor": 4
}
